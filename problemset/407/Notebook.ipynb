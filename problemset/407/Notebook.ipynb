{
 "cells": [
  {
   "cell_type": "markdown",
   "metadata": {},
   "source": [
    "# B. Long Path\n",
    "\n",
    "- time limit per test: 1 second\n",
    "- memory limit per test: 256 megabytes\n",
    "- input: standard input\n",
    "- output: standard output\n",
    "\n",
    "One day, little Vasya found himself in a maze consisting of (n + 1) rooms, numbered from 1 to (n + 1). Initially, Vasya is at the first room and to get out of the maze, he needs to get to the (n + 1)-th one.\n",
    "\n",
    "The maze is organized as follows. Each room of the maze has two one-way portals. Let's consider room number i (1 ≤ i ≤ n), someone can use the first portal to move from it to room number (i + 1), also someone can use the second portal to move from it to room number pi, where 1 ≤ pi ≤ i.\n",
    "\n",
    "In order not to get lost, Vasya decided to act as follows.\n",
    "\n",
    "- Each time Vasya enters some room, he paints a cross on its ceiling. Initially, Vasya paints a cross at the ceiling of room 1.\n",
    "\n",
    "- Let's assume that Vasya is in room i and has already painted a cross on its ceiling. Then, if the ceiling now contains an odd number of crosses, Vasya uses the second portal (it leads to room pi), otherwise Vasya uses the first portal. \n",
    "\n",
    "Help Vasya determine the number of times he needs to use portals to get to room (n + 1) in the end.\n",
    "\n",
    "#### Input\n",
    "\n",
    "The first line contains integer n (1 ≤ n ≤ 103) — the number of rooms. The second line contains n integers pi (1 ≤ pi ≤ i). Each pi denotes the number of the room, that someone can reach, if he will use the second portal in the i-th room.\n",
    "\n",
    "#### Output\n",
    "\n",
    "Print a single number — the number of portal moves the boy needs to go out of the maze. As the number can be rather large, print it modulo 1000000007 (109 + 7).\n",
    "\n",
    "#### Examples\n",
    "\n",
    "Input\n",
    "```\n",
    "2\n",
    "1 2\n",
    "```\n",
    "\n",
    "Output\n",
    "```\n",
    "4\n",
    "```\n",
    "\n",
    "Input\n",
    "```\n",
    "4\n",
    "1 1 2 3\n",
    "```\n",
    "\n",
    "Output\n",
    "```\n",
    "20\n",
    "```\n",
    "\n",
    "Input\n",
    "```\n",
    "5\n",
    "1 1 1 1 1\n",
    "```\n",
    "\n",
    "Output\n",
    "```\n",
    "62\n",
    "```"
   ]
  },
  {
   "cell_type": "markdown",
   "metadata": {},
   "source": [
    "### Standard Input Generator"
   ]
  },
  {
   "cell_type": "code",
   "execution_count": 13,
   "metadata": {
    "collapsed": true
   },
   "outputs": [],
   "source": [
    "input = \"\"\"5\n",
    "1 1 1 1 1\"\"\"\n",
    "\n",
    "def line_generator(input):\n",
    "    \"\"\"Simulates reading from standard input\n",
    "    \n",
    "    Every time you call next on it, you get the next line from stdin.\n",
    "    \n",
    "    \"\"\"\n",
    "    for line in input.split('\\n'):\n",
    "        yield line"
   ]
  },
  {
   "cell_type": "markdown",
   "metadata": {},
   "source": [
    "### Generator to Read in Examples"
   ]
  },
  {
   "cell_type": "code",
   "execution_count": 14,
   "metadata": {
    "collapsed": false
   },
   "outputs": [],
   "source": [
    "def example_generator(line):\n",
    "    \"\"\"Read example from stdin and parse it into the appropriate data structure\n",
    "    \n",
    "    Use in the following way:\n",
    "    \n",
    "    example = example_generator(stdin_generator)\n",
    "    while True:\n",
    "        numbers, target = next(example)\n",
    "        .\n",
    "        .\n",
    "        .\n",
    "    \n",
    "    \"\"\"\n",
    "    while True:\n",
    "        n = int(next(line).strip())\n",
    "        P = [int(p_i)-1 for p_i in next(line).split()] # convert to zero-indexing\n",
    "        \n",
    "        yield n, P"
   ]
  },
  {
   "cell_type": "markdown",
   "metadata": {},
   "source": [
    "### Workhorse Functions"
   ]
  },
  {
   "cell_type": "code",
   "execution_count": 15,
   "metadata": {
    "collapsed": true
   },
   "outputs": [],
   "source": [
    "def do_rooms(n, p):\n",
    "    \"\"\"Print out the number of times Vasya needs to use portals to get to room n+1\n",
    "    \n",
    "    dp[i] is the number of portal jumps required to start off at room i with an odd\n",
    "    number of crosses and get back to room i with an even number of crosses.\n",
    "    \n",
    "    Hence the recurrence relation is as follows:\n",
    "    \n",
    "    dp[i] = 1 + [Sum_{j = p(i)}^{i-1} dp[j] + 1]\n",
    "    \n",
    "    This can be read as \"the number of portal jumps to get from room i with an odd\n",
    "    number of crosses to an even number of crosses is equivalent to taking a portal\n",
    "    jump to room p(i) into an odd number of crosees (+1), getting back into that\n",
    "    state with an even number of crosses (Sum part).\n",
    "    \n",
    "    \"\"\"\n",
    "    dp = [0]*n\n",
    "    \n",
    "    for i in range(n):\n",
    "        \n",
    "        portal_jumps = 1 # initial jump from from i to p[i]\n",
    "        \n",
    "        # This block would read cleaner if it was just a for loop!\n",
    "        for j in range(p[i], i):\n",
    "            portal_jumps += dp[j] # jumps to get you from room j with odd to room j with even\n",
    "            portal_jumps += 1 # extra jump to get you from j to j+1\n",
    "            portal_jumps = int(portal_jumps % (1e9+7))\n",
    "            \n",
    "        dp[i] = portal_jumps\n",
    "        \n",
    "    total_pjumps = 0    \n",
    "    for i in range(n):\n",
    "        total_pjumps += dp[i]\n",
    "        total_pjumps += 1\n",
    "        total_pjumps = int(total_pjumps % (1e9+7))\n",
    "        \n",
    "    print(total_pjumps)"
   ]
  },
  {
   "cell_type": "markdown",
   "metadata": {},
   "source": [
    "### Main Loop"
   ]
  },
  {
   "cell_type": "code",
   "execution_count": 16,
   "metadata": {
    "collapsed": false
   },
   "outputs": [
    {
     "name": "stdout",
     "output_type": "stream",
     "text": [
      "62\n"
     ]
    }
   ],
   "source": [
    "line = line_generator(input)\n",
    "example = example_generator(line)\n",
    "\n",
    "n, P = next(example)\n",
    "do_rooms(n, P)"
   ]
  }
 ],
 "metadata": {
  "kernelspec": {
   "display_name": "Python 3",
   "language": "python",
   "name": "python3"
  },
  "language_info": {
   "codemirror_mode": {
    "name": "ipython",
    "version": 3
   },
   "file_extension": ".py",
   "mimetype": "text/x-python",
   "name": "python",
   "nbconvert_exporter": "python",
   "pygments_lexer": "ipython3",
   "version": "3.5.1"
  }
 },
 "nbformat": 4,
 "nbformat_minor": 0
}
