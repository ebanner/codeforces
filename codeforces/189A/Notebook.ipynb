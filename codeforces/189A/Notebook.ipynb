{
 "cells": [
  {
   "cell_type": "markdown",
   "metadata": {},
   "source": [
    "# A. Cut Ribbon\n",
    "\n",
    "- time limit per test: 1 second\n",
    "- memory limit per test: 256 megabytes\n",
    "- input: standard input\n",
    "- output: standard output\n",
    "\n",
    "Polycarpus has a ribbon, its length is n. He wants to cut the ribbon in a way that fulfils the following two conditions:\n",
    "\n",
    "- After the cutting each ribbon piece should have length a, b or c.\n",
    "- After the cutting the number of ribbon pieces should be maximum.\n",
    "- Help Polycarpus and find the number of ribbon pieces after the required cutting.\n",
    "\n",
    "### Input\n",
    "\n",
    "The first line contains four space-separated integers n, a, b and c (1 ≤ n, a, b, c ≤ 4000) — the length of the original ribbon and the acceptable lengths of the ribbon pieces after the cutting, correspondingly. The numbers a, b and c can coincide.\n",
    "\n",
    "### Output\n",
    "\n",
    "Print a single number — the maximum possible number of ribbon pieces. It is guaranteed that at least one correct ribbon cutting exists.\n",
    "\n",
    "### Examples\n",
    "\n",
    "input\n",
    "\n",
    "`5 5 3 2`\n",
    "\n",
    "output\n",
    "\n",
    "`2`\n",
    "\n",
    "input\n",
    "\n",
    "`7 5 5 2`\n",
    "\n",
    "output\n",
    "\n",
    "`2`\n",
    "\n",
    "#### Note\n",
    "In the first example Polycarpus can cut the ribbon in such way: the first piece has length 2, the second piece has length 3.\n",
    "\n",
    "In the second example Polycarpus can cut the ribbon in such way: the first piece has length 5, the second piece has length 2."
   ]
  },
  {
   "cell_type": "markdown",
   "metadata": {},
   "source": [
    "### Standard Input Generator"
   ]
  },
  {
   "cell_type": "code",
   "execution_count": 27,
   "metadata": {
    "collapsed": true
   },
   "outputs": [],
   "source": [
    "input = \"\"\"7 5 5 2\"\"\"\n",
    "\n",
    "def line_generator(input):\n",
    "    \"\"\"Simulates reading from standard input\n",
    "    \n",
    "    Every time you call next on it, you get the next line from stdin.\n",
    "    \n",
    "    \"\"\"\n",
    "    for line in input.split('\\n'):\n",
    "        yield line"
   ]
  },
  {
   "cell_type": "markdown",
   "metadata": {},
   "source": [
    "### Generator to Read in Examples"
   ]
  },
  {
   "cell_type": "code",
   "execution_count": 28,
   "metadata": {
    "collapsed": false
   },
   "outputs": [],
   "source": [
    "def example_generator(line):\n",
    "    \"\"\"Read example from stdin and parse it into the appropriate data structure\n",
    "    \n",
    "    Use in the following way:\n",
    "    \n",
    "    example = example_generator(stdin_generator)\n",
    "    while True:\n",
    "        numbers, target = next(example)\n",
    "        .\n",
    "        .\n",
    "        .\n",
    "    \n",
    "    \"\"\"\n",
    "    while True:\n",
    "         n, a, b, c = [int(num) for num in next(line).split()]\n",
    "         \n",
    "         yield n, a, b, c"
   ]
  },
  {
   "cell_type": "markdown",
   "metadata": {},
   "source": [
    "### Workhorse Functions"
   ]
  },
  {
   "cell_type": "code",
   "execution_count": 29,
   "metadata": {
    "collapsed": false
   },
   "outputs": [],
   "source": [
    "def do_ribbon(n, a, b, c):\n",
    "    \"\"\"Find the maximum number of parts a ribbon of length n can be cut into\n",
    "    \n",
    "    Each part has to be of length either a, b, or c.\n",
    "    \n",
    "    Use dynamic programming!\n",
    "    \n",
    "    \"\"\"\n",
    "    dp = [0]*(n+1)\n",
    "    \n",
    "    # Initial dp step\n",
    "    for chunk_size in [a, b, c]:\n",
    "        dp[a] = dp[b] = dp[c] = 1\n",
    "        \n",
    "    for i in range(1, n):\n",
    "        if not dp[i]:\n",
    "            continue # zero ways to cut up this ribbon evenly\n",
    "            \n",
    "        for chunk_size in [a, b, c]:\n",
    "            if i + chunk_size > n:\n",
    "                continue # don't consider values off the end of the dp table\n",
    "                \n",
    "            dp[i+chunk_size] = max(dp[i]+1, dp[i+chunk_size])\n",
    "            \n",
    "    print(dp)"
   ]
  },
  {
   "cell_type": "markdown",
   "metadata": {},
   "source": [
    "### Main Loop"
   ]
  },
  {
   "cell_type": "code",
   "execution_count": 30,
   "metadata": {
    "collapsed": false
   },
   "outputs": [
    {
     "name": "stdout",
     "output_type": "stream",
     "text": [
      "[0, 0, 1, 0, 2, 1, 3, 2]\n"
     ]
    }
   ],
   "source": [
    "line = line_generator(input)\n",
    "example = example_generator(line)\n",
    "\n",
    "n, a, b, c = next(example)\n",
    "do_ribbon(n, a, b, c)"
   ]
  }
 ],
 "metadata": {
  "kernelspec": {
   "display_name": "Python 3",
   "language": "python",
   "name": "python3"
  },
  "language_info": {
   "codemirror_mode": {
    "name": "ipython",
    "version": 3
   },
   "file_extension": ".py",
   "mimetype": "text/x-python",
   "name": "python",
   "nbconvert_exporter": "python",
   "pygments_lexer": "ipython3",
   "version": "3.5.1"
  }
 },
 "nbformat": 4,
 "nbformat_minor": 0
}
