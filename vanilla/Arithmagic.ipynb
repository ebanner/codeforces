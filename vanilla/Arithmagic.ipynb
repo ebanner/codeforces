{
 "cells": [
  {
   "cell_type": "markdown",
   "metadata": {},
   "source": [
    "# Problem Title: Arithmagic\n",
    "\n",
    "Accepted Languages:\n",
    "\n",
    "- C++, Java, Python 2.7 and 3.4\n",
    "\n",
    "Submission:\n",
    "\n",
    "- Submit a single file containing your solution to the problem. It should\n",
    "output only the answer requested (NO DEBUG OUTPUT).\n",
    "\n",
    "Grading:\n",
    "\n",
    "- 20% - Code Quality\n",
    "- 40% - Big O (efficiency)\n",
    "- 40% - Correctness\n",
    "\n",
    "Description:\n",
    "\n",
    "Buh did his fourth grade math homework on his computer, but when he printed it\n",
    "out, all of the operations were erased! Each question on Buh's homework is an\n",
    "arithmetic equation: a_0 OP a_1 OP a_2 ... a_(n-1) = a_n. Since he's in the\n",
    "fourth grade, each OP can be addition, subtraction, or multiplication (+, -, or *). \n",
    "Furthermore, Buh did the homework without regard for order of operations, and\n",
    "just ran the operations from left to right. For example, on this homework, 3 +\n",
    "4 * 2 = 14.\n",
    "\n",
    "Buh is also afraid of negative numbers, so no partial computation results in a\n",
    "negative number. For example, 3 - 4 + 6 = 1 is not a valid order of operations\n",
    "because the first operation, 3 - 4, is -1, which causes Buh to freak out.\n",
    "\n",
    "Rules:\n",
    "\n",
    "Each input file will begin with a number T, the number of test cases.\n",
    "\n",
    "The first line of each test case will contain n, the number of terms in the\n",
    "arithmetic equation. The second line of each test case will consist of n + 1\n",
    "space separated integers a_i. This represents the equation \n",
    "(...((a_0 OP a_1) OP a_2) OP ... a_(n - 1)) = a_n\n",
    "\n",
    "For each test case, if there exists a set of operators that solves the equation\n",
    "without the partial computation ever being negative, print \"PASS\" without\n",
    "quotes. If no collection of operators solves the equation, print \"FAIL\" on its\n",
    "own line, without quotes.\n",
    "\n",
    "Constraints:\n",
    "```\n",
    "1 <= n <= 15\n",
    "0 <= a_i <= 1000\n",
    "```\n",
    "\n",
    "Input (read from standard in):\n",
    "\n",
    "```\n",
    "3\n",
    "3\n",
    "3 4 2 14\n",
    "2\n",
    "2 3 4\n",
    "4\n",
    "0 3 4 6 1\n",
    "```\n",
    "\n",
    "Output (write to standard out):\n",
    "\n",
    "```\n",
    "PASS\n",
    "FAIL\n",
    "PASS\n",
    "```"
   ]
  },
  {
   "cell_type": "markdown",
   "metadata": {},
   "source": [
    "### Standard Input Generator"
   ]
  },
  {
   "cell_type": "code",
   "execution_count": 33,
   "metadata": {
    "collapsed": true
   },
   "outputs": [],
   "source": [
    "input = \"\"\"3\n",
    "3\n",
    "3 4 2 14\n",
    "2\n",
    "2 3 4\n",
    "4\n",
    "0 3 4 6 1\"\"\"\n",
    "\n",
    "def line_generator(input):\n",
    "    \"\"\"Simulates reading from standard input\n",
    "    \n",
    "    Every time you call next on it, you get the next line from stdin.\n",
    "    \n",
    "    \"\"\"\n",
    "    for line in input.split('\\n'):\n",
    "        yield line"
   ]
  },
  {
   "cell_type": "markdown",
   "metadata": {},
   "source": [
    "### Generator to Read in Examples"
   ]
  },
  {
   "cell_type": "code",
   "execution_count": 34,
   "metadata": {
    "collapsed": false
   },
   "outputs": [],
   "source": [
    "def example_generator(line):\n",
    "    \"\"\"Read example from stdin and parse it into the appropriate data structure\n",
    "    \n",
    "    Use in the following way:\n",
    "    \n",
    "    example = example_generator(stdin_generator)\n",
    "    while True:\n",
    "        numbers, target = next(example)\n",
    "        .\n",
    "        .\n",
    "        .\n",
    "    \n",
    "    \"\"\"\n",
    "    while True:\n",
    "        n = next(line)\n",
    "        numbers = next(line).split()\n",
    "        numbers = [int(number) for number in numbers]\n",
    "    \n",
    "        yield numbers[:-1], numbers[-1]"
   ]
  },
  {
   "cell_type": "markdown",
   "metadata": {},
   "source": [
    "### Workhorse Functions"
   ]
  },
  {
   "cell_type": "code",
   "execution_count": 35,
   "metadata": {
    "collapsed": false
   },
   "outputs": [],
   "source": [
    "import operator\n",
    "\n",
    "op_map = {\n",
    "    operator.add: '+',\n",
    "    operator.sub: '-',\n",
    "    operator.mul: '*'\n",
    "}\n",
    "\n",
    "def do_solve(numbers, target):\n",
    "    \"\"\"Print sequence of ops that when applied to numbers evaluates to target\n",
    "    \n",
    "    Print False if no such sequence of ops exists.\n",
    "    \n",
    "    \"\"\"\n",
    "    def solve(accum, rest):\n",
    "        \"\"\"Recursive function that returns list of ops that produce target from numbers\n",
    "        \n",
    "        solve() is defined inside of do_solve() so it can access `target` without having to pass\n",
    "        it around.\n",
    "        \n",
    "        \"\"\"\n",
    "        if accum < 0:\n",
    "            return False # no partial result can be negative\n",
    "        \n",
    "        if not rest and accum != target:\n",
    "            return False # exhausted input and result does not match\n",
    "        \n",
    "        if not rest and accum == target:\n",
    "            return [] # found a solution! get the op list started so parents can add to it\n",
    "        \n",
    "        # otherwise...\n",
    "        \n",
    "        for op in (operator.add, operator.sub, operator.mul):\n",
    "            new_accum = op(accum, rest[0])\n",
    "            \n",
    "            ops = solve(new_accum, rest[1:])\n",
    "            if ops is not False:\n",
    "                return [op] + ops\n",
    "        \n",
    "        return False # none of options from this point worked so backtrack!\n",
    "    \n",
    "    ops = solve(accum=0, rest=numbers)    \n",
    "    if ops:\n",
    "        ops = [op_map[op] for op in ops][1:] # the first op is always going to be a '+', so we can chop it off\n",
    "    \n",
    "    print(ops)"
   ]
  },
  {
   "cell_type": "markdown",
   "metadata": {},
   "source": [
    "### Main Loop"
   ]
  },
  {
   "cell_type": "code",
   "execution_count": 36,
   "metadata": {
    "collapsed": false
   },
   "outputs": [
    {
     "name": "stdout",
     "output_type": "stream",
     "text": [
      "['+', '*']\n",
      "False\n",
      "['+', '+', '-']\n"
     ]
    }
   ],
   "source": [
    "line = line_generator(input)\n",
    "example = example_generator(line)\n",
    "\n",
    "T = next(line)\n",
    "\n",
    "for _ in range(int(T)):\n",
    "    numbers, target = next(example)\n",
    "    \n",
    "    do_solve(numbers, target)"
   ]
  }
 ],
 "metadata": {
  "kernelspec": {
   "display_name": "Python 3",
   "language": "python",
   "name": "python3"
  },
  "language_info": {
   "codemirror_mode": {
    "name": "ipython",
    "version": 3
   },
   "file_extension": ".py",
   "mimetype": "text/x-python",
   "name": "python",
   "nbconvert_exporter": "python",
   "pygments_lexer": "ipython3",
   "version": "3.5.0"
  }
 },
 "nbformat": 4,
 "nbformat_minor": 0
}
