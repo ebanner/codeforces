{
 "cells": [
  {
   "cell_type": "markdown",
   "metadata": {},
   "source": [
    "# Problem Title: N-Digit Sums\n",
    "\n",
    "#### Accepted Languages\n",
    "\n",
    "- C++, Java, Python 2.7 and 3.4\n",
    "\n",
    "#### Submission\n",
    "\n",
    "Submit a single file containing your solution to the problem. It should output only the answer requested (NO DEBUG OUTPUT).\n",
    "\n",
    "#### Grading\n",
    "\n",
    "- 20% - Code Quality\n",
    "- 40% - Big O (efficiency)\n",
    "- 40% - Correctness\n",
    "\n",
    "Note: Any recursive solutions will receive a 0. You must implement a bottom-up dynamic programming approach to receive any credit.\n",
    "\n",
    "#### Description\n",
    "\n",
    "You have two numbers, N and S. Consider all the numbers with exactly N-digits. How many of those numbers have digits that sum to S?\n",
    "\n",
    "Remember that numbers don't have leading 0's. For example, 01 and 0032 are not numbers.\n",
    "\n",
    "#### Rules\n",
    "\n",
    "Each input file will begin with a single integer T representing the number of test cases. For each test case, there will be two integers N and S representing the number of digits and desired sum respectively.\n",
    "\n",
    "#### Output\n",
    "\n",
    "Print out how many N-digit numbers sum to S modulo (10^9 + 7) for each test case.\n",
    "\n",
    "#### Constraints\n",
    "\n",
    "```\n",
    "1 <= N <= 500\n",
    "1 <= S <= 4500\n",
    "```\n",
    "\n",
    "Input (read from standard in):\n",
    "```\n",
    "3\n",
    "2 2\n",
    "3 2\n",
    "5 7\n",
    "```\n",
    "\n",
    "Output (print to standard out):\n",
    "````\n",
    "2\n",
    "3\n",
    "210\n",
    "````\n",
    "\n",
    "#### Explanation\n",
    "\n",
    "1. 20 and 11 are the only 2-digit numbers whose digits sum to 2.\n",
    "2. 101, 110, and 200 are the only 3-digit numbres whose digits sum to 2.\n",
    "3. That's a lot of numbers."
   ]
  },
  {
   "cell_type": "markdown",
   "metadata": {},
   "source": [
    "### Standard Input Generator"
   ]
  },
  {
   "cell_type": "code",
   "execution_count": 1,
   "metadata": {
    "collapsed": true
   },
   "outputs": [],
   "source": [
    "input = \"\"\"3\n",
    "2 2\n",
    "3 2\n",
    "5 7\"\"\"\n",
    "\n",
    "def line_generator(input):\n",
    "    \"\"\"Simulates reading from standard input\n",
    "    \n",
    "    Every time you call next on it, you get the next line from stdin.\n",
    "    \n",
    "    \"\"\"\n",
    "    for line in input.split('\\n'):\n",
    "        yield line"
   ]
  },
  {
   "cell_type": "markdown",
   "metadata": {},
   "source": [
    "### Generator to Read in Examples"
   ]
  },
  {
   "cell_type": "code",
   "execution_count": 2,
   "metadata": {
    "collapsed": false
   },
   "outputs": [],
   "source": [
    "def example_generator(line):\n",
    "    \"\"\"Read example from stdin and parse it into the appropriate data structure\n",
    "    \n",
    "    Use in the following way:\n",
    "    \n",
    "    example = example_generator(stdin_generator)\n",
    "    while True:\n",
    "        numbers, target = next(example)\n",
    "        .\n",
    "        .\n",
    "        .\n",
    "    \n",
    "    \"\"\"\n",
    "    while True:\n",
    "         N, S = [int(num) for num in next(line).split()]\n",
    "         \n",
    "         yield N, S"
   ]
  },
  {
   "cell_type": "markdown",
   "metadata": {},
   "source": [
    "### Workhorse Functions"
   ]
  },
  {
   "cell_type": "code",
   "execution_count": 33,
   "metadata": {
    "collapsed": false
   },
   "outputs": [],
   "source": [
    "def do_dp(N, S):\n",
    "    \"\"\"Print out the number of numbers with N digits sum up to S\n",
    "    \n",
    "    Use dynamic programming!\n",
    "    \n",
    "    \"\"\"\n",
    "    dp = np.zeros([N+1, S+1], dtype=np.int)\n",
    "    dp[:2] = 1\n",
    "    \n",
    "    for n in range(2, N+1): # two digits is the first non-trivial case\n",
    "        for s in range(S+1):\n",
    "            for digit in range(10):\n",
    "                if digit > s:\n",
    "                    break # can't begin the number with a digit greater than the sum we're looking for\n",
    "\n",
    "                dp[n][s] += dp[n-1][s-digit]\n",
    "    \n",
    "    print(dp[N][S] - dp[N-1][S]) # discard entries with leading zero"
   ]
  },
  {
   "cell_type": "markdown",
   "metadata": {},
   "source": [
    "### Main Loop"
   ]
  },
  {
   "cell_type": "code",
   "execution_count": 34,
   "metadata": {
    "collapsed": false
   },
   "outputs": [
    {
     "name": "stdout",
     "output_type": "stream",
     "text": [
      "2\n",
      "3\n",
      "210\n"
     ]
    }
   ],
   "source": [
    "line = line_generator(input)\n",
    "\n",
    "example = example_generator(line)\n",
    "\n",
    "T = next(line)\n",
    "\n",
    "for i in range(int(T)):\n",
    "    N, S = next(example)\n",
    "    \n",
    "    do_dp(N, S)"
   ]
  }
 ],
 "metadata": {
  "kernelspec": {
   "display_name": "Python 3",
   "language": "python",
   "name": "python3"
  },
  "language_info": {
   "codemirror_mode": {
    "name": "ipython",
    "version": 3
   },
   "file_extension": ".py",
   "mimetype": "text/x-python",
   "name": "python",
   "nbconvert_exporter": "python",
   "pygments_lexer": "ipython3",
   "version": "3.5.0"
  }
 },
 "nbformat": 4,
 "nbformat_minor": 0
}
