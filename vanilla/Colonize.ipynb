{
 "cells": [
  {
   "cell_type": "markdown",
   "metadata": {},
   "source": [
    "Problem Title: Colonize\n",
    "\n",
    "Accepted Languages:\n",
    "\n",
    "- C++, Java, Python 2.7 and 3.4\n",
    "\n",
    "Submission:\n",
    "\n",
    "- Submit a single file containing your solution to the problem. It should output only the answer requested (NO DEBUG OUTPUT).\n",
    "\n",
    "Grading:\n",
    "\n",
    "20% - Code Quality\n",
    "40% - Big O (efficiency)\n",
    "40% - Correctness\n",
    "\n",
    "Description:\n",
    "\n",
    "It's the year 2865, and humans are looking to colonize planets in the Zleep-Zlorb galaxy. Planets in Zleep-Zlorb aren't spherical like planets in our solar system, but rather is shaped like flat sheets of paper, with only one habitable side.\n",
    "\n",
    "Earth's top scientists have divided the inhabitable side of Zleep-Zlorb planets into zones and marked whether the zone is inhabitable or not. Two zones are adjacent if they share an edge or a corner.\n",
    "\n",
    "Earth only has the resources to colonize one continent. They want you to find the largest continent on Zleep-Zlorb.\n",
    "\n",
    "Rules:\n",
    "\n",
    "This time, we'll tell you how many test cases there are. Each input file will begin with a number T, the number of test cases.\n",
    "\n",
    "Each test case has two integers R, then C on their own line. (1 <= R, C <= 5000). Then R lines follow, each with C characters. The characters are either 0 if that zone is uninhabitable and 1 otherwise.\n",
    "\n",
    "For each test case, print a single integer on its own line: the size of the largest continent on that planet.\n",
    "\n",
    "Constraints:\n",
    "1 <= R, C <= 5000\n",
    "\n",
    "Input (read from standard in):\n",
    "\n",
    "```\n",
    "1\n",
    "4 4\n",
    "0001\n",
    "0100\n",
    "0111\n",
    "1001```\n",
    "\n",
    "Output (write to standard out):\n",
    "\n",
    "6\n",
    "\n",
    "Explanation:\n",
    "The first planet has two continents: one of size 1 in the top right corner and one of size 6 towards the bottom of the planet."
   ]
  },
  {
   "cell_type": "markdown",
   "metadata": {},
   "source": [
    "### Input and Example Generators"
   ]
  },
  {
   "cell_type": "code",
   "execution_count": 96,
   "metadata": {
    "collapsed": false
   },
   "outputs": [],
   "source": [
    "input = \"\"\"1\n",
    "4 4\n",
    "0001\n",
    "0100\n",
    "0111\n",
    "1001\"\"\"\n",
    "\n",
    "def input_generator():\n",
    "    \"\"\"Simulates reading from standard input\"\"\"\n",
    "    \n",
    "    for line in input.split('\\n'):\n",
    "        yield line\n",
    "        \n",
    "def example_generator():\n",
    "    \"\"\"Read example from stdin and parse it into the appropriate data structure\"\"\"\n",
    "    R, _ = map(int, next(line).split())\n",
    "    \n",
    "    def grid_generator(R):\n",
    "        for _ in range(R):\n",
    "            row = next(line)\n",
    "            \n",
    "            yield [int(char) for char in row]\n",
    "            \n",
    "    yield list(grid_generator(R))"
   ]
  },
  {
   "cell_type": "markdown",
   "metadata": {},
   "source": [
    "### Traverse the World"
   ]
  },
  {
   "cell_type": "code",
   "execution_count": 97,
   "metadata": {
    "collapsed": true
   },
   "outputs": [],
   "source": [
    "from collections import namedtuple\n",
    "\n",
    "Point = namedtuple('Point', ['x', 'y'])\n",
    "\n",
    "def do_world(grid):\n",
    "    \"\"\"Return the largest continent\n",
    "    \n",
    "    1. Create set of unvisited habitable squares\n",
    "    2. Create set of visited habitable squares\n",
    "    \n",
    "    While there is still an unvisited habitable square...\n",
    "    {\n",
    "        1. Get an unvisited habitable square\n",
    "        2. Do a DFS outward, updating the visited habitable squares as we go along\n",
    "        3. If the number of squares visited is greater than the current maximum, then it's the new max\n",
    "    }\n",
    "    \n",
    "    grid : world\n",
    "    \n",
    "    \"\"\"\n",
    "    unvisited = set()\n",
    "    \n",
    "    for i, row in enumerate(grid):\n",
    "        for j, habitable in enumerate(row):\n",
    "            if habitable:\n",
    "                unvisited.add(Point(i, j))\n",
    "\n",
    "    maximum = 0\n",
    "    while unvisited:\n",
    "        square = unvisited.pop()\n",
    "        \n",
    "        newly_visited, n = do_dfs(square, grid)\n",
    "        \n",
    "        unvisited = unvisited - newly_visited\n",
    "        \n",
    "        maximum = max(maximum, n)\n",
    "        \n",
    "    print maximum"
   ]
  },
  {
   "cell_type": "markdown",
   "metadata": {},
   "source": [
    "### DFS"
   ]
  },
  {
   "cell_type": "code",
   "execution_count": 98,
   "metadata": {
    "collapsed": false
   },
   "outputs": [],
   "source": [
    "from collections import deque\n",
    "\n",
    "def do_dfs(point, grid):\n",
    "    \"\"\"Do a dfs outward starting at `point` in `grid`\n",
    "    \n",
    "    Keep count of how many squares are in the continent\n",
    "    \n",
    "    \"\"\"\n",
    "    R, C = len(grid), len(grid[0])\n",
    "    visited, frontier = set([point]), deque([point])\n",
    "    n = 0\n",
    "    while frontier:\n",
    "        p = frontier.popleft()\n",
    "        n += 1 # add one to the explored list\n",
    "        \n",
    "        for dx, dy in itertools.product({0, 1, -1}, {0, 1, -1}):\n",
    "            if not dx and not dy: # don't consider yourself\n",
    "                continue\n",
    "                \n",
    "            p_ = Point(p.x+dx, p.y+dy) # new point under consideration\n",
    "            \n",
    "            if not 0 <= p_.x < R or not 0 <= p_.y < C:\n",
    "                continue # don't consider points off the grid\n",
    "                \n",
    "            if not grid[p_.x][p_.y]:\n",
    "                continue # don't consider points which are unihabitable\n",
    "                \n",
    "            if p_ in visited:\n",
    "                continue # don't consider point that have already been visited\n",
    "                \n",
    "            # Point must:\n",
    "            #\n",
    "            # - Not be yourself\n",
    "            # - Be on the grid\n",
    "            # - Habitable\n",
    "            # - Not yet visited\n",
    "            #\n",
    "            # Hence add it to the frontier, and mark it as visited!\n",
    "            #                \n",
    "            frontier.appendleft(p_); visited.add(p_)\n",
    "            \n",
    "    return visited, n"
   ]
  },
  {
   "cell_type": "markdown",
   "metadata": {},
   "source": [
    "### Main Loop"
   ]
  },
  {
   "cell_type": "code",
   "execution_count": 99,
   "metadata": {
    "collapsed": false
   },
   "outputs": [
    {
     "name": "stdout",
     "output_type": "stream",
     "text": [
      "6\n"
     ]
    }
   ],
   "source": [
    "line, example = input_generator(), example_generator()\n",
    "\n",
    "T = next(line)\n",
    "\n",
    "for _ in range(int(T)):\n",
    "    grid = next(example)\n",
    "    \n",
    "    do_world(grid)"
   ]
  }
 ],
 "metadata": {
  "kernelspec": {
   "display_name": "Python 2",
   "language": "python",
   "name": "python2"
  },
  "language_info": {
   "codemirror_mode": {
    "name": "ipython",
    "version": 2
   },
   "file_extension": ".py",
   "mimetype": "text/x-python",
   "name": "python",
   "nbconvert_exporter": "python",
   "pygments_lexer": "ipython2",
   "version": "2.7.11"
  }
 },
 "nbformat": 4,
 "nbformat_minor": 0
}
