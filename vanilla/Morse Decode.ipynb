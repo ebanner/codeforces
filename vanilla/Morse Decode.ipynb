{
 "cells": [
  {
   "cell_type": "markdown",
   "metadata": {},
   "source": [
    "# Problem Title: Morse Decode\n",
    "\n",
    "#### Accepted Languages:\n",
    "\n",
    "C++, Java, Python 2.7 and 3.4\n",
    "\n",
    "#### Submission:\n",
    "\n",
    "Submit a single file containing your solution to the problem. It should\n",
    "output only the answer requested (NO DEBUG OUTPUT).\n",
    "\n",
    "#### Grading:\n",
    "\n",
    "- 20% - Code Quality\n",
    "- 40% - Big O (efficiency)\n",
    "- 40% - Correctness\n",
    "\n",
    "#### Description:\n",
    "\n",
    "Sam is trying to send a message to his friend Joseph using morse code. Unfortunately, Joseph is not paying attention and doesn't notice when Sam pauses. He's just written down the sequence of dots and dashes. A string of Morse code can be decoded in multiple ways. For example, `.-.-` can either be \"AA\", \"ENT\", \"EK\", and possibly some other words.Joseph has given up on trying to decode what Sam is trying to tell him but instead wants to know: how many different ways can a given morse code string be parsed into a sequence of characters?\n",
    "\n",
    "#### Rules:\n",
    "\n",
    "Each input file will begin with 26 lines, the morse code representation of the letters from A through Z. After that will be a single integer T, the number of test cases. Each test case is a single line of characters which are either '.' or '-'. The length of the string will not be longer than 100,000 characters.\n",
    "\n",
    "#### Output:\n",
    "\n",
    "Print out a single value, the number of ways to interpret that string as valid. As the value may be large, print it modulo 1,000,000,007 (10^9 + 7).\n",
    "\n",
    "#### Constraints:\n",
    "\n",
    "Input (read from standard in):\n",
    "\n",
    "```\n",
    ".-\n",
    "-...\n",
    "-.-.\n",
    "-..\n",
    ".\n",
    "..-.\n",
    "--.\n",
    "....\n",
    "..\n",
    ".---\n",
    "-.-\n",
    ".-..\n",
    "--\n",
    "-.\n",
    "---\n",
    ".--.\n",
    "--.-\n",
    ".-.\n",
    "...\n",
    "-\n",
    "..-\n",
    "...-\n",
    ".--\n",
    "-..-\n",
    "-.--\n",
    "--..\n",
    "2\n",
    ".-\n",
    "...---...\n",
    "```\n",
    "\n",
    "Output (print to standard out):\n",
    "\n",
    "```\n",
    "2\n",
    "192\n",
    "```"
   ]
  },
  {
   "cell_type": "markdown",
   "metadata": {},
   "source": [
    "### Standard Input Generator"
   ]
  },
  {
   "cell_type": "code",
   "execution_count": 37,
   "metadata": {
    "collapsed": true
   },
   "outputs": [],
   "source": [
    "input = \"\"\".-\n",
    "-...\n",
    "-.-.\n",
    "-..\n",
    ".\n",
    "..-.\n",
    "--.\n",
    "....\n",
    "..\n",
    ".---\n",
    "-.-\n",
    ".-..\n",
    "--\n",
    "-.\n",
    "---\n",
    ".--.\n",
    "--.-\n",
    ".-.\n",
    "...\n",
    "-\n",
    "..-\n",
    "...-\n",
    ".--\n",
    "-..-\n",
    "-.--\n",
    "--..\n",
    "2\n",
    ".-\n",
    "...---...\"\"\"\n",
    "\n",
    "def line_generator(input):\n",
    "    \"\"\"Simulates reading from standard input\n",
    "    \n",
    "    Every time you call next on it, you get the next line from stdin.\n",
    "    \n",
    "    \"\"\"\n",
    "    for line in input.split('\\n'):\n",
    "        yield line"
   ]
  },
  {
   "cell_type": "markdown",
   "metadata": {},
   "source": [
    "### Generator to Read in Examples"
   ]
  },
  {
   "cell_type": "code",
   "execution_count": 77,
   "metadata": {
    "collapsed": false
   },
   "outputs": [],
   "source": [
    "def example_generator(line):\n",
    "    \"\"\"Read example from stdin and parse it into the appropriate data structure\n",
    "    \n",
    "    Use in the following way:\n",
    "    \n",
    "    example = example_generator(stdin_generator)\n",
    "    while True:\n",
    "        numbers, target = next(example)\n",
    "        .\n",
    "        .\n",
    "        .\n",
    "    \n",
    "    \"\"\"\n",
    "    while True:\n",
    "         string = next(line).strip()\n",
    "         \n",
    "         yield string"
   ]
  },
  {
   "cell_type": "markdown",
   "metadata": {},
   "source": [
    "### Workhorse Functions"
   ]
  },
  {
   "cell_type": "code",
   "execution_count": 82,
   "metadata": {
    "collapsed": false
   },
   "outputs": [],
   "source": [
    "def do_dp(alphabet, target):\n",
    "    \"\"\"Compute the number of interpretations of the target morse code string with the alphabet\n",
    "    \n",
    "    Use dynamic programming!\n",
    "    \n",
    "    \"\"\"\n",
    "    dp = {'': 1} # one way to interpret empty string (unambiguous)\n",
    "    \n",
    "    for i, c in enumerate(target, start=1):\n",
    "        suffix = target[-i:]\n",
    "\n",
    "        num_interpretations = 0\n",
    "        for prefix in alphabet:\n",
    "            if len(prefix) > i:\n",
    "                continue # suffix is too short to interpret as letter being on top\n",
    "\n",
    "            if not suffix.startswith(prefix):\n",
    "                continue # can't interpret string as starting with prefix if it doesn't start with prefix\n",
    "\n",
    "            # Chop off prefix and count the number of interpretations towards the current string\n",
    "            rest = suffix[len(prefix):]\n",
    "\n",
    "            num_interpretations += dp[rest]\n",
    "\n",
    "        dp[suffix] = num_interpretations\n",
    "        \n",
    "    print(dp[target])"
   ]
  },
  {
   "cell_type": "markdown",
   "metadata": {},
   "source": [
    "### Main Loop"
   ]
  },
  {
   "cell_type": "code",
   "execution_count": 83,
   "metadata": {
    "collapsed": false
   },
   "outputs": [
    {
     "name": "stdout",
     "output_type": "stream",
     "text": [
      "2\n",
      "192\n"
     ]
    }
   ],
   "source": [
    "line = line_generator(input)\n",
    "\n",
    "alphabet = [next(line) for _ in range(26)]\n",
    "\n",
    "example = example_generator(line)\n",
    "\n",
    "T = next(line)\n",
    "\n",
    "for i in range(int(T)):\n",
    "    mc_string = next(example)\n",
    "    \n",
    "    do_dp(alphabet, mc_string)"
   ]
  }
 ],
 "metadata": {
  "kernelspec": {
   "display_name": "Python 3",
   "language": "python",
   "name": "python3"
  },
  "language_info": {
   "codemirror_mode": {
    "name": "ipython",
    "version": 3
   },
   "file_extension": ".py",
   "mimetype": "text/x-python",
   "name": "python",
   "nbconvert_exporter": "python",
   "pygments_lexer": "ipython3",
   "version": "3.5.0"
  }
 },
 "nbformat": 4,
 "nbformat_minor": 0
}
