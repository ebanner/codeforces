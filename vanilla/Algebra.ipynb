{
 "cells": [
  {
   "cell_type": "markdown",
   "metadata": {},
   "source": [
    "# Problem Title: Algebra\n",
    "\n",
    "Accepted Languages:\n",
    "\n",
    "- C++, Java, Python 2.7 and 3.4\n",
    "\n",
    "Submission:\n",
    "\n",
    "- Submit a single file containing your solution to the problem. It should\n",
    "output only the answer requested (NO DEBUG OUTPUT).\n",
    "\n",
    "Grading:\n",
    "\n",
    "- 20% - Code Quality\n",
    "- 40% - Big O (efficiency)\n",
    "- 40% - Correctness\n",
    "\n",
    "Description:\n",
    "\n",
    "- All we're going to ask you to do is find x. We want this x to have the property that p(x) = y, where we give you some polynomial p and an integer y. Sounds easy enough, but we never said the numbers would be 32-bit or even 64-bit! Oh, and luckily for you we don't believe in negative numbers...\n",
    "\n",
    "Rules:\n",
    "\n",
    "- Each input file will begin with a number T, the number of test cases.\n",
    "\n",
    "- The first line of each test case will contain two integers n and y. n represents the order of the polynomial you'll be given and y represents the value you want p(x) to evaluate to. The second line of each test case will have n + 1 integers which are the coefficients of your polynomial. So for example, 1 0 3 would represent an order 2 polynomial, 3x^2 + 1.\n",
    "\n",
    "Output:\n",
    "\n",
    "- Print out the value of x that satifies p(x) = y, and if no nonnegative integer x exists, then print \"N/A\".\n",
    "\n",
    "Constraints:\n",
    "\n",
    "```\n",
    "0 <= n <= 10^6\n",
    "0 <= y <= 10^100\n",
    "```\n",
    "\n",
    "All polynomial coefficients are within [0, 10^6]\n",
    "\n",
    "\n",
    "**Tip: Do this in Python to make your life easier.**\n",
    "\n",
    "\n",
    "Input (read from standard in):\n",
    "\n",
    "```\n",
    "4\n",
    "2 28\n",
    "1 0 3\n",
    "4 5\n",
    "1 1 1 1 1\n",
    "1 0\n",
    "1 3\n",
    "3 1881676371789154860897070\n",
    "1 0 0 1\n",
    "```\n",
    "\n",
    "Output (write to standard out):\n",
    "\n",
    "```\n",
    "3\n",
    "1\n",
    "N/A\n",
    "123456789\n",
    "```"
   ]
  },
  {
   "cell_type": "markdown",
   "metadata": {},
   "source": [
    "### Standard Input Generator"
   ]
  },
  {
   "cell_type": "code",
   "execution_count": 1,
   "metadata": {
    "collapsed": true
   },
   "outputs": [],
   "source": [
    "input = \"\"\"4\n",
    "2 28\n",
    "1 0 3\n",
    "5 5\n",
    "1 1 1 1 1\n",
    "1 0\n",
    "1 3\n",
    "3 1881676371789154860897070\n",
    "1 0 0 1\"\"\"\n",
    "\n",
    "def line_generator(input):\n",
    "    \"\"\"Simulates reading from standard input\n",
    "    \n",
    "    Every time you call next on it, you get the next line from stdin.\n",
    "    \n",
    "    \"\"\"\n",
    "    for line in input.split('\\n'):\n",
    "        yield line"
   ]
  },
  {
   "cell_type": "markdown",
   "metadata": {},
   "source": [
    "### Generator to Read in Examples"
   ]
  },
  {
   "cell_type": "code",
   "execution_count": 2,
   "metadata": {
    "collapsed": false
   },
   "outputs": [],
   "source": [
    "def example_generator(line):\n",
    "    \"\"\"Read example from stdin and parse it into the appropriate data structure\n",
    "    \n",
    "    Use in the following way:\n",
    "    \n",
    "    example = example_generator(stdin_generator)\n",
    "    while True:\n",
    "        numbers, target = next(example)\n",
    "        .\n",
    "        .\n",
    "        .\n",
    "    \n",
    "    \"\"\"\n",
    "    while True:\n",
    "        n, y = [int(num) for num in next(line).split()]\n",
    "        coeffs = [int(num) for num in next(line).split()]\n",
    "        \n",
    "        f = lambda x: sum(coeff*x**pow for pow, coeff in enumerate(coeffs))\n",
    "    \n",
    "        yield f, y"
   ]
  },
  {
   "cell_type": "markdown",
   "metadata": {},
   "source": [
    "### Workhorse Functions"
   ]
  },
  {
   "cell_type": "code",
   "execution_count": 6,
   "metadata": {
    "collapsed": true
   },
   "outputs": [],
   "source": [
    "def binary_search(f, y, lo, hi):\n",
    "    \"\"\"Perform binary search\"\"\"\n",
    "    \n",
    "    while lo <= hi:\n",
    "        mid = lo + (hi-lo)//2\n",
    "        \n",
    "        if f(mid) == y:\n",
    "            return mid\n",
    "        \n",
    "        elif f(mid) < y:\n",
    "            lo = mid+1\n",
    "        else:\n",
    "            assert y < f(mid)\n",
    "            hi = mid-1\n",
    "    \n",
    "    return 'N/A' # lo crossed hi without finding the y\n",
    "\n",
    "def do_polynomial(f, y):\n",
    "    \"\"\"Find the x such that f(x) = y\n",
    "    \n",
    "    Print the x or if not x exists print N/A\n",
    "    \n",
    "    \"\"\"\n",
    "    lo, hi = 0, 1\n",
    "    while True:\n",
    "        if y < f(hi):\n",
    "            break\n",
    "            \n",
    "        hi *= 2\n",
    "        \n",
    "    x = binary_search(f, y, lo, hi)\n",
    "    \n",
    "    print(x)"
   ]
  },
  {
   "cell_type": "markdown",
   "metadata": {},
   "source": [
    "### Main Loop"
   ]
  },
  {
   "cell_type": "code",
   "execution_count": 8,
   "metadata": {
    "collapsed": false
   },
   "outputs": [
    {
     "name": "stdout",
     "output_type": "stream",
     "text": [
      "3\n",
      "1\n",
      "N/A\n",
      "123456789\n"
     ]
    }
   ],
   "source": [
    "line = line_generator(input)\n",
    "example = example_generator(line)\n",
    "\n",
    "T = next(line)\n",
    "\n",
    "for i in range(int(T)):\n",
    "    f, y = next(example)\n",
    "    \n",
    "    do_polynomial(f, y)"
   ]
  }
 ],
 "metadata": {
  "kernelspec": {
   "display_name": "Python 3",
   "language": "python",
   "name": "python3"
  },
  "language_info": {
   "codemirror_mode": {
    "name": "ipython",
    "version": 3
   },
   "file_extension": ".py",
   "mimetype": "text/x-python",
   "name": "python",
   "nbconvert_exporter": "python",
   "pygments_lexer": "ipython3",
   "version": "3.5.0"
  }
 },
 "nbformat": 4,
 "nbformat_minor": 0
}
