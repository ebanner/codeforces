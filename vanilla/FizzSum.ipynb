{
 "cells": [
  {
   "cell_type": "markdown",
   "metadata": {},
   "source": [
    "Problem Title: FizzSum\n",
    "\n",
    "Accepted Languages:\n",
    "\n",
    "- C++, Java, Python 2.7 and 3.4\n",
    "\n",
    "Submission:\n",
    "\n",
    "- Submit a single file containing your solution to the problem. It should output only the answer requested (NO DEBUG OUTPUT).\n",
    "\n",
    "Grading:\n",
    "\n",
    "20% - Code Quality\n",
    "40% - Big O (efficiency)\n",
    "40% - Correctness\n",
    "\n",
    "Description:\n",
    "\n",
    "Did you know that one of the most common interview questions is Fizz buzz (https://en.wikipedia.org/wiki/Fizz_buzz)? This question typically acts as a weed out question to determine which interviewees know basic programming. We changed it up a bit, so this is our variant of Fizz buzz for competitive programming! ... Will you be weeded out?\n",
    "\n",
    "Rules:\n",
    "\n",
    "You're going to be given several pairs of integers a and b. For every x between a and b (inclusive) do the following:\n",
    "\n",
    "1. If x is divisible by 3, add x + 3\n",
    "2. If x is divisible by 5, add x + 5\n",
    "3. If x is divisible by 3 and 5, add x^2\n",
    "\n",
    "If rule 3 applies, don't perform rules 1 and 2.\n",
    "\n",
    "After all integers have been added, print the sum on its own line.\n",
    "\n",
    "Constraints:\n",
    "1 <= a, b <= 10^8\n",
    "\n",
    "Input (read from standard in):\n",
    "\n",
    "1 5\n",
    "13 17\n",
    "12 17\n",
    "\n",
    "Output (write to standard out):\n",
    "\n",
    "16\n",
    "225\n",
    "240"
   ]
  },
  {
   "cell_type": "markdown",
   "metadata": {},
   "source": [
    "### Input"
   ]
  },
  {
   "cell_type": "code",
   "execution_count": 44,
   "metadata": {
    "collapsed": true
   },
   "outputs": [],
   "source": [
    "input = \"\"\"1 5\n",
    "13 17\n",
    "12 17\"\"\"\n",
    "\n",
    "def line_generator(input):\n",
    "    \"\"\"Yields all lines in stdin\"\"\"\n",
    "        \n",
    "    for line in input:\n",
    "        yield line\n",
    "\n",
    "lines = line_generator(input.split('\\n'))\n",
    "output = [int(out) for out in output.split()]"
   ]
  },
  {
   "cell_type": "markdown",
   "metadata": {},
   "source": [
    "### Helper Functions"
   ]
  },
  {
   "cell_type": "code",
   "execution_count": null,
   "metadata": {
    "collapsed": true
   },
   "outputs": [],
   "source": [
    "def do_fizz(a, b):\n",
    "    s = sum(fizz_sum(a, b))\n",
    "    \n",
    "    print(s)\n",
    "\n",
    "def fizz_sum(a, b):\n",
    "    for x in range(a, b+1):\n",
    "        if not x % 3 and not x % 5:\n",
    "            yield x**2\n",
    "        elif not x % 5:\n",
    "            yield x + 5\n",
    "        elif not x % 3:\n",
    "            yield x + 3"
   ]
  },
  {
   "cell_type": "markdown",
   "metadata": {},
   "source": [
    "### Main Loop"
   ]
  },
  {
   "cell_type": "code",
   "execution_count": 46,
   "metadata": {
    "collapsed": false
   },
   "outputs": [
    {
     "name": "stdout",
     "output_type": "stream",
     "text": [
      "16\n",
      "225\n",
      "240\n"
     ]
    }
   ],
   "source": [
    "for line in lines:\n",
    "    a, b = [int(num) for num in line.split()]\n",
    "    \n",
    "    do_fizz(a, b)"
   ]
  }
 ],
 "metadata": {
  "kernelspec": {
   "display_name": "Python 3",
   "language": "python",
   "name": "python3"
  },
  "language_info": {
   "codemirror_mode": {
    "name": "ipython",
    "version": 3
   },
   "file_extension": ".py",
   "mimetype": "text/x-python",
   "name": "python",
   "nbconvert_exporter": "python",
   "pygments_lexer": "ipython3",
   "version": "3.5.0"
  }
 },
 "nbformat": 4,
 "nbformat_minor": 0
}
